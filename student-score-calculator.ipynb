{
 "cells": [
  {
   "cell_type": "code",
   "execution_count": 13,
   "id": "f6ffe7f1-5649-4422-b8c5-1739fcb7a400",
   "metadata": {},
   "outputs": [
    {
     "name": "stdin",
     "output_type": "stream",
     "text": [
      "Enter a Name of Student:  sharad\n",
      "Enter Marks of Math   :  99\n",
      "Enter Marks of English:  88\n",
      "Enter Marks of Science:  77\n",
      "Enter Marks of History:  66\n",
      "Enter Marks of Hindi  :  66\n"
     ]
    },
    {
     "name": "stdout",
     "output_type": "stream",
     "text": [
      "\n",
      "Student Name     : SHARAD\n",
      "Subject Marks    : Math=99, English=88, Science=77, History=66, Hindi=66\n",
      "Total Marks      : 396\n",
      "Average          : 79.2\n",
      "Percentage       : 79.20%\n"
     ]
    }
   ],
   "source": [
    "name = input(\"Enter a Name of Student: \").upper()\n",
    "\n",
    "subject1 = int(input(\"Enter Marks of Math   : \"))\n",
    "subject2 = int(input(\"Enter Marks of English: \"))\n",
    "subject3 = int(input(\"Enter Marks of Science: \"))\n",
    "subject4 = int(input(\"Enter Marks of History: \"))\n",
    "subject5 = int(input(\"Enter Marks of Hindi  : \"))\n",
    "\n",
    "total = subject1 + subject2 + subject3 + subject4 + subject5\n",
    "average = total / 5\n",
    "percentage = (total * 100) / 500  \n",
    "\n",
    "print(f\"\\nStudent Name     : {name}\")\n",
    "print(f\"Subject Marks    : Math={subject1}, English={subject2}, Science={subject3}, History={subject4}, Hindi={subject5}\")\n",
    "print(f\"Total Marks      : {total}\")\n",
    "print(f\"Average          : {average}\")\n",
    "print(f\"Percentage       : {percentage:.2f}%\")\n"
   ]
  },
  {
   "cell_type": "code",
   "execution_count": null,
   "id": "59d847f8-4b97-4ed0-a54a-d225cea1a71a",
   "metadata": {},
   "outputs": [],
   "source": []
  }
 ],
 "metadata": {
  "kernelspec": {
   "display_name": "Python [conda env:base] *",
   "language": "python",
   "name": "conda-base-py"
  },
  "language_info": {
   "codemirror_mode": {
    "name": "ipython",
    "version": 3
   },
   "file_extension": ".py",
   "mimetype": "text/x-python",
   "name": "python",
   "nbconvert_exporter": "python",
   "pygments_lexer": "ipython3",
   "version": "3.13.5"
  }
 },
 "nbformat": 4,
 "nbformat_minor": 5
}
